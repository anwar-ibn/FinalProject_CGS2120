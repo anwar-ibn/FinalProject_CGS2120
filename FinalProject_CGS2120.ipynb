{
  "nbformat": 4,
  "nbformat_minor": 0,
  "metadata": {
    "colab": {
      "provenance": [],
      "authorship_tag": "ABX9TyN62viiP789BJnX+7WXahru",
      "include_colab_link": true
    },
    "kernelspec": {
      "name": "python3",
      "display_name": "Python 3"
    },
    "language_info": {
      "name": "python"
    }
  },
  "cells": [
    {
      "cell_type": "markdown",
      "metadata": {
        "id": "view-in-github",
        "colab_type": "text"
      },
      "source": [
        "<a href=\"https://colab.research.google.com/github/anwar-ibn/FinalProject_CGS2120/blob/main/FinalProject_CGS2120.ipynb\" target=\"_parent\"><img src=\"https://colab.research.google.com/assets/colab-badge.svg\" alt=\"Open In Colab\"/></a>"
      ]
    },
    {
      "cell_type": "code",
      "source": [
        "from IPython.display import Markdown\n",
        "\n",
        "# Step 1: Introduction to the program\n",
        "markdown_text = \"\"\"\n",
        "## Calculator Program\n",
        "\n",
        "This program is a simple calculator that performs basic arithmetic operations such as addition, subtraction, multiplication, division, exponentiation, and square root calculations.\n",
        "\n",
        "**Features:**\n",
        "- Provides a menu of operations.\n",
        "- Handles invalid inputs gracefully.\n",
        "- Ends when the user selects the exit option.\n",
        "\n",
        "**Usage:** Follow the on-screen prompts to input numbers and choose operations.\n",
        "\"\"\"\n",
        "display(Markdown(markdown_text))\n",
        "\n",
        "import math  # Import math for square root operations\n",
        "\n",
        "# Step 2: Define basic arithmetic functions\n",
        "markdown_text = \"\"\"\n",
        "### Arithmetic Functions\n",
        "\n",
        "These functions perform the core operations:\n",
        "1. **add(a, b):** Adds two numbers.\n",
        "2. **subtract(a, b):** Subtracts the second number from the first.\n",
        "3. **multiply(a, b):** Multiplies two numbers.\n",
        "4. **divide(a, b):** Divides the first number by the second (with division by zero handling).\n",
        "5. **power(a, b):** Raises the first number to the power of the second.\n",
        "6. **square_root(a):** Calculates the square root of a non-negative number (handles negative input).\n",
        "\"\"\"\n",
        "display(Markdown(markdown_text))\n",
        "\n",
        "def add(a, b):\n",
        "    return a + b\n",
        "\n",
        "def subtract(a, b):\n",
        "    return a - b\n",
        "\n",
        "def multiply(a, b):\n",
        "    return a * b\n",
        "\n",
        "def divide(a, b):\n",
        "    if b == 0:\n",
        "        return \"Error: Division by zero is not allowed.\"\n",
        "    return a / b\n",
        "\n",
        "def power(a, b):\n",
        "    return a ** b\n",
        "\n",
        "def square_root(a):\n",
        "    if a < 0:\n",
        "        return \"Error: Cannot calculate the square root of a negative number.\"\n",
        "    return math.sqrt(a)\n",
        "\n",
        "# Step 3: The main calculator function\n",
        "markdown_text = \"\"\"\n",
        "### Calculator Function\n",
        "\n",
        "This function:\n",
        "- Displays a menu of operations.\n",
        "- Takes user input for operation selection and numeric values.\n",
        "- Executes the appropriate operation based on the user's choice.\n",
        "- Displays the result or error messages for invalid inputs.\n",
        "\n",
        "The loop continues until the user selects '7' to exit.\n",
        "\"\"\"\n",
        "display(Markdown(markdown_text))\n",
        "\n",
        "def calculator():\n",
        "    print(\"Welcome to the Simple Calculator!\")\n",
        "\n",
        "    while True:\n",
        "        # Step 4: Display menu\n",
        "        markdown_text = \"\"\"\n",
        "        #### Operation Menu\n",
        "\n",
        "        Select an operation by entering its corresponding number:\n",
        "        1. Addition\n",
        "        2. Subtraction\n",
        "        3. Multiplication\n",
        "        4. Division\n",
        "        5. Exponentiation\n",
        "        6. Square Root\n",
        "        7. Exit\n",
        "        \"\"\"\n",
        "        display(Markdown(markdown_text))\n",
        "\n",
        "        choice = input(\"Enter the number of your choice: \")\n",
        "\n",
        "        if choice == '7':\n",
        "            print(\"Goodbye!\")\n",
        "            break\n",
        "\n",
        "        if choice in ['1', '2', '3', '4', '5']:\n",
        "            try:\n",
        "                num1 = float(input(\"Enter the first number: \"))\n",
        "                num2 = float(input(\"Enter the second number: \"))\n",
        "            except ValueError:\n",
        "                print(\"Invalid input. Please enter numeric values.\")\n",
        "                continue\n",
        "\n",
        "            if choice == '1':\n",
        "                result = add(num1, num2)\n",
        "            elif choice == '2':\n",
        "                result = subtract(num1, num2)\n",
        "            elif choice == '3':\n",
        "                result = multiply(num1, num2)\n",
        "            elif choice == '4':\n",
        "                result = divide(num1, num2)\n",
        "            elif choice == '5':\n",
        "                result = power(num1, num2)\n",
        "\n",
        "        elif choice == '6':\n",
        "            try:\n",
        "                num = float(input(\"Enter the number: \"))\n",
        "            except ValueError:\n",
        "                print(\"Invalid input. Please enter a numeric value.\")\n",
        "                continue\n",
        "\n",
        "            result = square_root(num)\n",
        "        else:\n",
        "            print(\"Invalid choice. Please try again.\")\n",
        "            continue\n",
        "\n",
        "        print(f\"The result is: {result}\")\n",
        "\n",
        "# Call the calculator function\n",
        "calculator()"
      ],
      "metadata": {
        "colab": {
          "base_uri": "https://localhost:8080/",
          "height": 1000
        },
        "id": "evW1dtvBVsi6",
        "outputId": "0592a7c4-b072-441c-871c-7fed8713e55b"
      },
      "execution_count": 33,
      "outputs": [
        {
          "output_type": "display_data",
          "data": {
            "text/plain": [
              "<IPython.core.display.Markdown object>"
            ],
            "text/markdown": "\n## Calculator Program\n\nThis program is a simple calculator that performs basic arithmetic operations such as addition, subtraction, multiplication, division, exponentiation, and square root calculations.\n\n**Features:**\n- Provides a menu of operations.\n- Handles invalid inputs gracefully.\n- Ends when the user selects the exit option.\n\n**Usage:** Follow the on-screen prompts to input numbers and choose operations.\n"
          },
          "metadata": {}
        },
        {
          "output_type": "display_data",
          "data": {
            "text/plain": [
              "<IPython.core.display.Markdown object>"
            ],
            "text/markdown": "\n### Arithmetic Functions\n\nThese functions perform the core operations:\n1. **add(a, b):** Adds two numbers.\n2. **subtract(a, b):** Subtracts the second number from the first.\n3. **multiply(a, b):** Multiplies two numbers.\n4. **divide(a, b):** Divides the first number by the second (with division by zero handling).\n5. **power(a, b):** Raises the first number to the power of the second.\n6. **square_root(a):** Calculates the square root of a non-negative number (handles negative input).\n"
          },
          "metadata": {}
        },
        {
          "output_type": "display_data",
          "data": {
            "text/plain": [
              "<IPython.core.display.Markdown object>"
            ],
            "text/markdown": "\n### Calculator Function\n\nThis function:\n- Displays a menu of operations.\n- Takes user input for operation selection and numeric values.\n- Executes the appropriate operation based on the user's choice.\n- Displays the result or error messages for invalid inputs.\n\nThe loop continues until the user selects '7' to exit.\n"
          },
          "metadata": {}
        },
        {
          "output_type": "stream",
          "name": "stdout",
          "text": [
            "Welcome to the Simple Calculator!\n"
          ]
        },
        {
          "output_type": "display_data",
          "data": {
            "text/plain": [
              "<IPython.core.display.Markdown object>"
            ],
            "text/markdown": "\n        #### Operation Menu\n\n        Select an operation by entering its corresponding number:\n        1. Addition\n        2. Subtraction\n        3. Multiplication\n        4. Division\n        5. Exponentiation\n        6. Square Root\n        7. Exit\n        "
          },
          "metadata": {}
        },
        {
          "output_type": "stream",
          "name": "stdout",
          "text": [
            "Enter the number of your choice: 1\n",
            "Enter the first number: 3\n",
            "Enter the second number: 5\n",
            "The result is: 8.0\n"
          ]
        },
        {
          "output_type": "display_data",
          "data": {
            "text/plain": [
              "<IPython.core.display.Markdown object>"
            ],
            "text/markdown": "\n        #### Operation Menu\n\n        Select an operation by entering its corresponding number:\n        1. Addition\n        2. Subtraction\n        3. Multiplication\n        4. Division\n        5. Exponentiation\n        6. Square Root\n        7. Exit\n        "
          },
          "metadata": {}
        },
        {
          "output_type": "stream",
          "name": "stdout",
          "text": [
            "Enter the number of your choice: 2\n",
            "Enter the first number: 4\n",
            "Enter the second number: -7\n",
            "The result is: 11.0\n"
          ]
        },
        {
          "output_type": "display_data",
          "data": {
            "text/plain": [
              "<IPython.core.display.Markdown object>"
            ],
            "text/markdown": "\n        #### Operation Menu\n\n        Select an operation by entering its corresponding number:\n        1. Addition\n        2. Subtraction\n        3. Multiplication\n        4. Division\n        5. Exponentiation\n        6. Square Root\n        7. Exit\n        "
          },
          "metadata": {}
        },
        {
          "output_type": "stream",
          "name": "stdout",
          "text": [
            "Enter the number of your choice: 3\n",
            "Enter the first number: 3\n",
            "Enter the second number: 10\n",
            "The result is: 30.0\n"
          ]
        },
        {
          "output_type": "display_data",
          "data": {
            "text/plain": [
              "<IPython.core.display.Markdown object>"
            ],
            "text/markdown": "\n        #### Operation Menu\n\n        Select an operation by entering its corresponding number:\n        1. Addition\n        2. Subtraction\n        3. Multiplication\n        4. Division\n        5. Exponentiation\n        6. Square Root\n        7. Exit\n        "
          },
          "metadata": {}
        },
        {
          "output_type": "stream",
          "name": "stdout",
          "text": [
            "Enter the number of your choice: 4\n",
            "Enter the first number: 25\n",
            "Enter the second number: 0\n",
            "The result is: Error: Division by zero is not allowed.\n"
          ]
        },
        {
          "output_type": "display_data",
          "data": {
            "text/plain": [
              "<IPython.core.display.Markdown object>"
            ],
            "text/markdown": "\n        #### Operation Menu\n\n        Select an operation by entering its corresponding number:\n        1. Addition\n        2. Subtraction\n        3. Multiplication\n        4. Division\n        5. Exponentiation\n        6. Square Root\n        7. Exit\n        "
          },
          "metadata": {}
        },
        {
          "output_type": "stream",
          "name": "stdout",
          "text": [
            "Enter the number of your choice: 4\n",
            "Enter the first number: 25\n",
            "Enter the second number: 5\n",
            "The result is: 5.0\n"
          ]
        },
        {
          "output_type": "display_data",
          "data": {
            "text/plain": [
              "<IPython.core.display.Markdown object>"
            ],
            "text/markdown": "\n        #### Operation Menu\n\n        Select an operation by entering its corresponding number:\n        1. Addition\n        2. Subtraction\n        3. Multiplication\n        4. Division\n        5. Exponentiation\n        6. Square Root\n        7. Exit\n        "
          },
          "metadata": {}
        },
        {
          "output_type": "stream",
          "name": "stdout",
          "text": [
            "Enter the number of your choice: 5\n",
            "Enter the first number: 4\n",
            "Enter the second number: 2\n",
            "The result is: 16.0\n"
          ]
        },
        {
          "output_type": "display_data",
          "data": {
            "text/plain": [
              "<IPython.core.display.Markdown object>"
            ],
            "text/markdown": "\n        #### Operation Menu\n\n        Select an operation by entering its corresponding number:\n        1. Addition\n        2. Subtraction\n        3. Multiplication\n        4. Division\n        5. Exponentiation\n        6. Square Root\n        7. Exit\n        "
          },
          "metadata": {}
        },
        {
          "output_type": "stream",
          "name": "stdout",
          "text": [
            "Enter the number of your choice: 6\n",
            "Enter the number: 16\n",
            "The result is: 4.0\n"
          ]
        },
        {
          "output_type": "display_data",
          "data": {
            "text/plain": [
              "<IPython.core.display.Markdown object>"
            ],
            "text/markdown": "\n        #### Operation Menu\n\n        Select an operation by entering its corresponding number:\n        1. Addition\n        2. Subtraction\n        3. Multiplication\n        4. Division\n        5. Exponentiation\n        6. Square Root\n        7. Exit\n        "
          },
          "metadata": {}
        },
        {
          "output_type": "stream",
          "name": "stdout",
          "text": [
            "Enter the number of your choice: 7\n",
            "Goodbye!\n"
          ]
        }
      ]
    },
    {
      "cell_type": "markdown",
      "source": [
        "Reflection on Functions and Code Simplification\n",
        "\n",
        "Using functions in this calculator script significantly simplifies the code structure for several reasons:\n",
        "\n",
        "1. Modularity: Each mathematical operation is encapsulated in its own function, making the code easier to read, debug, and maintain.\n",
        "2. Reusability: Functions can be reused wherever the corresponding operation is needed, avoiding repetition.\n",
        "3. Clarity: By naming functions descriptively (add, subtract, etc.), the logic of the program becomes more transparent, even to someone unfamiliar with the code.\n",
        "4. Error Isolation: Errors can be pinpointed to specific functions, simplifying troubleshooting.\n",
        "5. Scalability: Adding new features, such as additional operations, becomes straightforward without affecting existing functionality.\n",
        "\n",
        "\n",
        "Potential Improvements\n",
        "1. Enhanced Error Handling:\n",
        "\n",
        "Provide more specific messages for invalid inputs or errors like overflow during exponentiation.\n",
        "Handle edge cases like operations on extremely large or small numbers.\n",
        "2. Input Validation:\n",
        "\n",
        "Add checks to ensure inputs fall within an acceptable range for certain operations (e.g., no negative inputs for logarithmic functions).\n",
        "3. UI Enhancements:\n",
        "\n",
        "Clearer menu prompts and instructions.\n",
        "Allow users to re-enter their choice or input after an invalid entry without restarting the loop.\n",
        "4. Formatting Results:\n",
        "\n",
        "Format the output for precision (e.g., limiting results to 2 decimal places for floating-point operations).\n",
        "\n",
        "Additional Features\n",
        "1. Memory Features:\n",
        "\n",
        "Add memory storage (e.g., M+, M-, MR) to store and recall results.\n",
        "2. History of Operations:\n",
        "\n",
        "Display the history of previous calculations in the session."
      ],
      "metadata": {
        "id": "KFWvtW_KX_37"
      }
    }
  ]
}